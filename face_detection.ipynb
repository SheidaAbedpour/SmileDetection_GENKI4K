{
  "nbformat": 4,
  "nbformat_minor": 0,
  "metadata": {
    "colab": {
      "provenance": [],
      "gpuType": "T4",
      "authorship_tag": "ABX9TyMMgRPhFaO6J0g9ueaPK3fe"
    },
    "kernelspec": {
      "name": "python3",
      "display_name": "Python 3"
    },
    "language_info": {
      "name": "python"
    }
  },
  "cells": [
    {
      "cell_type": "code",
      "source": [
        "!pip install deepface"
      ],
      "metadata": {
        "id": "CoN_QSI_1Ndt"
      },
      "execution_count": null,
      "outputs": []
    },
    {
      "cell_type": "code",
      "source": [
        "import os\n",
        "from deepface import DeepFace\n",
        "import cv2\n",
        "import numpy as np"
      ],
      "metadata": {
        "id": "-P4R8FKkFl8H"
      },
      "execution_count": 18,
      "outputs": []
    },
    {
      "cell_type": "code",
      "source": [
        "import zipfile\n",
        "import os\n",
        "\n",
        "zip_file_path = \"/content/files.zip\"\n",
        "extract_to = \"/content/images\"\n",
        "\n",
        "with zipfile.ZipFile(zip_file_path, 'r') as zip_ref:\n",
        "    zip_ref.extractall(extract_to)\n",
        "\n",
        "print(\"Images extracted to\", extract_to)\n"
      ],
      "metadata": {
        "colab": {
          "base_uri": "https://localhost:8080/"
        },
        "id": "-1GPz1QEIO11",
        "outputId": "b4448610-5016-4903-a50e-f8887041d8df"
      },
      "execution_count": 20,
      "outputs": [
        {
          "output_type": "stream",
          "name": "stdout",
          "text": [
            "Images extracted to /content/images\n"
          ]
        }
      ]
    },
    {
      "cell_type": "code",
      "source": [
        "# Define paths\n",
        "input_dir = \"/content/images/files\"\n",
        "output_dir = \"/content/FacesDetected\"\n",
        "os.makedirs(output_dir, exist_ok=True)\n",
        "\n",
        "# Loop through each file in the directory\n",
        "for filename in os.listdir(input_dir):\n",
        "    img_path = os.path.join(input_dir, filename)\n",
        "\n",
        "    # Check if the file is an image\n",
        "    if img_path.lower().endswith(('.png', '.jpg', '.jpeg')):\n",
        "        try:\n",
        "            # Detect faces in the image\n",
        "            faces = DeepFace.extract_faces(img_path, detector_backend=\"opencv\", enforce_detection=False)\n",
        "\n",
        "            # Proceed only if at least one face is detected\n",
        "            if faces:\n",
        "                # Get the first detected face\n",
        "                face_image = faces[0][\"face\"]\n",
        "\n",
        "                # Convert to uint8 format\n",
        "                face_image_uint8 = (face_image * 255).astype(np.uint8)\n",
        "\n",
        "                # Convert to RGB for saving with OpenCV\n",
        "                face_image_rgb = cv2.cvtColor(face_image_uint8, cv2.COLOR_RGB2BGR)\n",
        "\n",
        "                # Save the cropped face\n",
        "                output_path = os.path.join(output_dir, f\"cropped_{filename}\")\n",
        "                cv2.imwrite(output_path, face_image_rgb)\n",
        "\n",
        "        except Exception as e:\n",
        "            print(f\"Error processing {filename}: {e}\")\n"
      ],
      "metadata": {
        "collapsed": true,
        "id": "Pci_f_YD4V0l"
      },
      "execution_count": 21,
      "outputs": []
    },
    {
      "cell_type": "code",
      "source": [
        "import shutil\n",
        "shutil.make_archive(\"/content/FacesDetected\", 'zip', \"/content/FacesDetected\")\n",
        "\n",
        "from google.colab import files\n",
        "files.download(\"/content/FacesDetected.zip\")"
      ],
      "metadata": {
        "colab": {
          "base_uri": "https://localhost:8080/",
          "height": 17
        },
        "id": "R53xYWFS7mdw",
        "outputId": "2622bd0d-b85a-4c56-81aa-74e157395515"
      },
      "execution_count": 22,
      "outputs": [
        {
          "output_type": "display_data",
          "data": {
            "text/plain": [
              "<IPython.core.display.Javascript object>"
            ],
            "application/javascript": [
              "\n",
              "    async function download(id, filename, size) {\n",
              "      if (!google.colab.kernel.accessAllowed) {\n",
              "        return;\n",
              "      }\n",
              "      const div = document.createElement('div');\n",
              "      const label = document.createElement('label');\n",
              "      label.textContent = `Downloading \"${filename}\": `;\n",
              "      div.appendChild(label);\n",
              "      const progress = document.createElement('progress');\n",
              "      progress.max = size;\n",
              "      div.appendChild(progress);\n",
              "      document.body.appendChild(div);\n",
              "\n",
              "      const buffers = [];\n",
              "      let downloaded = 0;\n",
              "\n",
              "      const channel = await google.colab.kernel.comms.open(id);\n",
              "      // Send a message to notify the kernel that we're ready.\n",
              "      channel.send({})\n",
              "\n",
              "      for await (const message of channel.messages) {\n",
              "        // Send a message to notify the kernel that we're ready.\n",
              "        channel.send({})\n",
              "        if (message.buffers) {\n",
              "          for (const buffer of message.buffers) {\n",
              "            buffers.push(buffer);\n",
              "            downloaded += buffer.byteLength;\n",
              "            progress.value = downloaded;\n",
              "          }\n",
              "        }\n",
              "      }\n",
              "      const blob = new Blob(buffers, {type: 'application/binary'});\n",
              "      const a = document.createElement('a');\n",
              "      a.href = window.URL.createObjectURL(blob);\n",
              "      a.download = filename;\n",
              "      div.appendChild(a);\n",
              "      a.click();\n",
              "      div.remove();\n",
              "    }\n",
              "  "
            ]
          },
          "metadata": {}
        },
        {
          "output_type": "display_data",
          "data": {
            "text/plain": [
              "<IPython.core.display.Javascript object>"
            ],
            "application/javascript": [
              "download(\"download_23ccc22a-0f0b-46f5-b653-ab115e7310ea\", \"FacesDetected.zip\", 22207001)"
            ]
          },
          "metadata": {}
        }
      ]
    }
  ]
}