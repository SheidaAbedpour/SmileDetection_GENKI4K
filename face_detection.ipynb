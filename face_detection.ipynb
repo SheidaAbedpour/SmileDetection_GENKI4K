{
  "nbformat": 4,
  "nbformat_minor": 0,
  "metadata": {
    "colab": {
      "provenance": [],
      "gpuType": "T4"
    },
    "kernelspec": {
      "name": "python3",
      "display_name": "Python 3"
    },
    "language_info": {
      "name": "python"
    },
    "accelerator": "GPU"
  },
  "cells": [
    {
      "cell_type": "code",
      "source": [
        "import zipfile\n",
        "import os\n",
        "\n",
        "zip_file_path = \"/content/files.zip\"\n",
        "extract_to = \"/content/images\"\n",
        "\n",
        "with zipfile.ZipFile(zip_file_path, 'r') as zip_ref:\n",
        "    zip_ref.extractall(extract_to)\n",
        "\n",
        "print(\"Images extracted to\", extract_to)\n"
      ],
      "metadata": {
        "colab": {
          "base_uri": "https://localhost:8080/"
        },
        "id": "-1GPz1QEIO11",
        "outputId": "4dcf115f-38f3-43e2-8252-8aee831e7e0f"
      },
      "execution_count": null,
      "outputs": [
        {
          "output_type": "stream",
          "name": "stdout",
          "text": [
            "Images extracted to /content/images\n"
          ]
        }
      ]
    },
    {
      "cell_type": "code",
      "source": [
        "!pip install retina-face"
      ],
      "metadata": {
        "id": "xl-XAS4VQ2YF"
      },
      "execution_count": null,
      "outputs": []
    },
    {
      "cell_type": "code",
      "source": [
        "import os\n",
        "from retinaface import RetinaFace\n",
        "import cv2"
      ],
      "metadata": {
        "id": "NL1mPBy1Q9tB"
      },
      "execution_count": null,
      "outputs": []
    },
    {
      "cell_type": "code",
      "source": [
        "# Define paths\n",
        "input_dir = \"/content/images/files\"   # Folder containing images\n",
        "output_dir = \"/content/faces\"         # Folder to save aligned faces\n",
        "os.makedirs(output_dir, exist_ok=True)\n",
        "\n",
        "for filename in os.listdir(input_dir):\n",
        "    img_path = os.path.join(input_dir, filename)\n",
        "\n",
        "    if img_path.lower().endswith(('.png', '.jpg', '.jpeg')):\n",
        "        try:\n",
        "            # Detect and align faces in the image\n",
        "            faces = RetinaFace.extract_faces(img_path=img_path, align=True)\n",
        "\n",
        "            # Check if faces were detected\n",
        "            if faces:\n",
        "                face = faces[0]  # Select the first detected face\n",
        "            else:\n",
        "                # Handle the case where no face is detected\n",
        "                face = cv2.imread(img_path)\n",
        "                print(f\"No face detected in {filename}\")\n",
        "\n",
        "            # Resize the face to 224x224\n",
        "            face = cv2.resize(face, (224, 224))\n",
        "\n",
        "            # Convert to RGB format\n",
        "            face_rgb = cv2.cvtColor(face, cv2.COLOR_BGR2RGB)\n",
        "\n",
        "            # Save the aligned face image\n",
        "            output_path = os.path.join(output_dir, f\"{os.path.splitext(filename)[0]}_face.jpg\")\n",
        "            cv2.imwrite(output_path, face)\n",
        "\n",
        "        except Exception as e:\n",
        "            print(f\"Error processing {filename}: {e}\")"
      ],
      "metadata": {
        "colab": {
          "base_uri": "https://localhost:8080/"
        },
        "collapsed": true,
        "id": "U3VziPI1Q9qh",
        "outputId": "74bd40d8-d2e9-4d77-c9cb-4ef555f06d89"
      },
      "execution_count": null,
      "outputs": [
        {
          "output_type": "stream",
          "name": "stdout",
          "text": [
            "No face detected in file1064.jpg\n",
            "No face detected in file1797.jpg\n",
            "No face detected in file3757.jpg\n",
            "No face detected in file3959.jpg\n",
            "No face detected in file0112.jpg\n",
            "No face detected in file1501.jpg\n",
            "No face detected in file0007.jpg\n",
            "No face detected in file0950.jpg\n",
            "No face detected in file1628.jpg\n",
            "No face detected in file1051.jpg\n",
            "No face detected in file3134.jpg\n",
            "No face detected in file2369.jpg\n",
            "No face detected in file0364.jpg\n",
            "No face detected in file0426.jpg\n",
            "No face detected in file3040.jpg\n",
            "No face detected in file2308.jpg\n",
            "No face detected in file0740.jpg\n",
            "No face detected in file1761.jpg\n",
            "No face detected in file3581.jpg\n",
            "No face detected in file1056.jpg\n",
            "No face detected in file0810.jpg\n",
            "No face detected in file0830.jpg\n",
            "No face detected in file3126.jpg\n",
            "No face detected in file3632.jpg\n",
            "No face detected in file2858.jpg\n",
            "No face detected in file3524.jpg\n",
            "No face detected in file1592.jpg\n",
            "No face detected in file2111.jpg\n",
            "No face detected in file1630.jpg\n",
            "No face detected in file3704.jpg\n",
            "No face detected in file0331.jpg\n",
            "No face detected in file2231.jpg\n",
            "No face detected in file3065.jpg\n",
            "No face detected in file1832.jpg\n",
            "No face detected in file3417.jpg\n",
            "No face detected in file3838.jpg\n",
            "No face detected in file3024.jpg\n",
            "No face detected in file1141.jpg\n",
            "No face detected in file0874.jpg\n",
            "No face detected in file1368.jpg\n",
            "No face detected in file3439.jpg\n",
            "No face detected in file0761.jpg\n",
            "No face detected in file2704.jpg\n",
            "No face detected in file0249.jpg\n",
            "No face detected in file3178.jpg\n",
            "No face detected in file3507.jpg\n",
            "No face detected in file2706.jpg\n",
            "No face detected in file1192.jpg\n",
            "No face detected in file2590.jpg\n",
            "No face detected in file3214.jpg\n",
            "No face detected in file3951.jpg\n",
            "No face detected in file3380.jpg\n",
            "No face detected in file2808.jpg\n",
            "No face detected in file3555.jpg\n",
            "No face detected in file3256.jpg\n",
            "No face detected in file3113.jpg\n",
            "No face detected in file1319.jpg\n",
            "No face detected in file2550.jpg\n",
            "No face detected in file3635.jpg\n",
            "No face detected in file2049.jpg\n",
            "No face detected in file0242.jpg\n",
            "No face detected in file2318.jpg\n",
            "No face detected in file0998.jpg\n",
            "No face detected in file2166.jpg\n",
            "No face detected in file2730.jpg\n",
            "No face detected in file2714.jpg\n",
            "No face detected in file3759.jpg\n",
            "No face detected in file2065.jpg\n",
            "No face detected in file1516.jpg\n",
            "No face detected in file3035.jpg\n",
            "No face detected in file1533.jpg\n",
            "No face detected in file2720.jpg\n",
            "No face detected in file0163.jpg\n",
            "No face detected in file3315.jpg\n",
            "No face detected in file2810.jpg\n",
            "No face detected in file3157.jpg\n",
            "No face detected in file3949.jpg\n",
            "No face detected in file3025.jpg\n",
            "No face detected in file3030.jpg\n",
            "No face detected in file2874.jpg\n",
            "No face detected in file3852.jpg\n",
            "No face detected in file2425.jpg\n",
            "No face detected in file2058.jpg\n",
            "No face detected in file2925.jpg\n",
            "No face detected in file2544.jpg\n",
            "No face detected in file3812.jpg\n",
            "No face detected in file1539.jpg\n",
            "No face detected in file3616.jpg\n",
            "No face detected in file3891.jpg\n",
            "No face detected in file3369.jpg\n",
            "No face detected in file3690.jpg\n",
            "No face detected in file2168.jpg\n",
            "No face detected in file1885.jpg\n",
            "No face detected in file2654.jpg\n",
            "No face detected in file2509.jpg\n",
            "No face detected in file0379.jpg\n",
            "No face detected in file3067.jpg\n",
            "No face detected in file3509.jpg\n",
            "No face detected in file2839.jpg\n",
            "No face detected in file1820.jpg\n",
            "No face detected in file2690.jpg\n",
            "No face detected in file2940.jpg\n",
            "No face detected in file2876.jpg\n",
            "No face detected in file3269.jpg\n",
            "No face detected in file2729.jpg\n",
            "No face detected in file3276.jpg\n",
            "No face detected in file2405.jpg\n",
            "No face detected in file3626.jpg\n",
            "No face detected in file1410.jpg\n",
            "No face detected in file0972.jpg\n",
            "No face detected in file3334.jpg\n",
            "No face detected in file2438.jpg\n",
            "No face detected in file2450.jpg\n",
            "No face detected in file1873.jpg\n",
            "No face detected in file1312.jpg\n",
            "No face detected in file3148.jpg\n",
            "No face detected in file0458.jpg\n",
            "No face detected in file0108.jpg\n",
            "No face detected in file2731.jpg\n",
            "No face detected in file0428.jpg\n",
            "No face detected in file2403.jpg\n",
            "No face detected in file1039.jpg\n",
            "No face detected in file3703.jpg\n",
            "No face detected in file0267.jpg\n",
            "No face detected in file1313.jpg\n",
            "No face detected in file2927.jpg\n",
            "No face detected in file3678.jpg\n",
            "No face detected in file1768.jpg\n",
            "No face detected in file1419.jpg\n",
            "No face detected in file0081.jpg\n",
            "No face detected in file0629.jpg\n",
            "No face detected in file3250.jpg\n",
            "No face detected in file1845.jpg\n",
            "No face detected in file0977.jpg\n",
            "No face detected in file3217.jpg\n",
            "No face detected in file1599.jpg\n"
          ]
        }
      ]
    },
    {
      "cell_type": "code",
      "source": [
        "import shutil\n",
        "shutil.make_archive(\"/content/faces\", 'zip', \"/content/faces\")\n",
        "\n",
        "from google.colab import files\n",
        "files.download(\"/content/faces.zip\")"
      ],
      "metadata": {
        "colab": {
          "base_uri": "https://localhost:8080/",
          "height": 17
        },
        "id": "-A8kJmQqQ9lK",
        "outputId": "6dc448af-b342-47b2-e613-87fd786ecd6e"
      },
      "execution_count": null,
      "outputs": [
        {
          "output_type": "display_data",
          "data": {
            "text/plain": [
              "<IPython.core.display.Javascript object>"
            ],
            "application/javascript": [
              "\n",
              "    async function download(id, filename, size) {\n",
              "      if (!google.colab.kernel.accessAllowed) {\n",
              "        return;\n",
              "      }\n",
              "      const div = document.createElement('div');\n",
              "      const label = document.createElement('label');\n",
              "      label.textContent = `Downloading \"${filename}\": `;\n",
              "      div.appendChild(label);\n",
              "      const progress = document.createElement('progress');\n",
              "      progress.max = size;\n",
              "      div.appendChild(progress);\n",
              "      document.body.appendChild(div);\n",
              "\n",
              "      const buffers = [];\n",
              "      let downloaded = 0;\n",
              "\n",
              "      const channel = await google.colab.kernel.comms.open(id);\n",
              "      // Send a message to notify the kernel that we're ready.\n",
              "      channel.send({})\n",
              "\n",
              "      for await (const message of channel.messages) {\n",
              "        // Send a message to notify the kernel that we're ready.\n",
              "        channel.send({})\n",
              "        if (message.buffers) {\n",
              "          for (const buffer of message.buffers) {\n",
              "            buffers.push(buffer);\n",
              "            downloaded += buffer.byteLength;\n",
              "            progress.value = downloaded;\n",
              "          }\n",
              "        }\n",
              "      }\n",
              "      const blob = new Blob(buffers, {type: 'application/binary'});\n",
              "      const a = document.createElement('a');\n",
              "      a.href = window.URL.createObjectURL(blob);\n",
              "      a.download = filename;\n",
              "      div.appendChild(a);\n",
              "      a.click();\n",
              "      div.remove();\n",
              "    }\n",
              "  "
            ]
          },
          "metadata": {}
        },
        {
          "output_type": "display_data",
          "data": {
            "text/plain": [
              "<IPython.core.display.Javascript object>"
            ],
            "application/javascript": [
              "download(\"download_20229c18-e7f6-4803-a9b1-22fe3487cecf\", \"faces.zip\", 47419562)"
            ]
          },
          "metadata": {}
        }
      ]
    },
    {
      "cell_type": "code",
      "source": [],
      "metadata": {
        "id": "sGWiwwmQQ9ZQ"
      },
      "execution_count": null,
      "outputs": []
    }
  ]
}